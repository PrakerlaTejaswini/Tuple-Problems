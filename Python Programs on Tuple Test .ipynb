{
 "cells": [
  {
   "cell_type": "markdown",
   "id": "f48c1f4c",
   "metadata": {},
   "source": [
    "# 1. Write a Python program to create a tuple."
   ]
  },
  {
   "cell_type": "code",
   "execution_count": 1,
   "id": "ac534637",
   "metadata": {},
   "outputs": [],
   "source": [
    "t = ()"
   ]
  },
  {
   "cell_type": "code",
   "execution_count": 2,
   "id": "565bc187",
   "metadata": {},
   "outputs": [
    {
     "data": {
      "text/plain": [
       "tuple"
      ]
     },
     "execution_count": 2,
     "metadata": {},
     "output_type": "execute_result"
    }
   ],
   "source": [
    "type(t)"
   ]
  },
  {
   "cell_type": "markdown",
   "id": "dddfca12",
   "metadata": {},
   "source": [
    "# 2. Write a Python program to create a tuple with different data types."
   ]
  },
  {
   "cell_type": "code",
   "execution_count": 3,
   "id": "85b568d8",
   "metadata": {},
   "outputs": [
    {
     "name": "stdout",
     "output_type": "stream",
     "text": [
      "The created tuple with different data types is:\n",
      "(42, 'Hello', 3.14, True, [1, 2, 3], {'name': 'Tejaswini', 'age': 25}, (5, 6, 7))\n",
      "\n",
      "Accessing elements:\n",
      "Integer: 42\n",
      "String: Hello\n",
      "Float: 3.14\n",
      "Boolean: True\n",
      "List: [1, 2, 3]\n",
      "Dictionary: {'name': 'Tejaswini', 'age': 25}\n",
      "Nested Tuple: (5, 6, 7)\n"
     ]
    }
   ],
   "source": [
    "my_tuple = (42, \"Hello\", 3.14, True, [1, 2, 3], {\"name\": \"Tejaswini\", \"age\": 25}, (5, 6, 7))\n",
    "\n",
    "print(\"The created tuple with different data types is:\")\n",
    "print(my_tuple)\n",
    "\n",
    "print(\"\\nAccessing elements:\")\n",
    "print(\"Integer:\", my_tuple[0])\n",
    "print(\"String:\", my_tuple[1])\n",
    "print(\"Float:\", my_tuple[2])\n",
    "print(\"Boolean:\", my_tuple[3])\n",
    "print(\"List:\", my_tuple[4])\n",
    "print(\"Dictionary:\", my_tuple[5])\n",
    "print(\"Nested Tuple:\", my_tuple[6])\n"
   ]
  },
  {
   "cell_type": "markdown",
   "id": "6a8bcffe",
   "metadata": {},
   "source": [
    "Integer"
   ]
  },
  {
   "cell_type": "code",
   "execution_count": 4,
   "id": "73c3fc0f",
   "metadata": {},
   "outputs": [
    {
     "data": {
      "text/plain": [
       "(1, 2, 3, 4, 5)"
      ]
     },
     "execution_count": 4,
     "metadata": {},
     "output_type": "execute_result"
    }
   ],
   "source": [
    "t1 = (1,2,3,4,5)\n",
    "t1"
   ]
  },
  {
   "cell_type": "markdown",
   "id": "288c3e54",
   "metadata": {},
   "source": [
    "Float"
   ]
  },
  {
   "cell_type": "code",
   "execution_count": 5,
   "id": "0a917d0c",
   "metadata": {},
   "outputs": [
    {
     "data": {
      "text/plain": [
       "(2.5, 4.5, 6.8, 7.5)"
      ]
     },
     "execution_count": 5,
     "metadata": {},
     "output_type": "execute_result"
    }
   ],
   "source": [
    "t1 = (2.5,4.5,6.8,7.5)\n",
    "t1"
   ]
  },
  {
   "cell_type": "markdown",
   "id": "a9dfa45d",
   "metadata": {},
   "source": [
    "string"
   ]
  },
  {
   "cell_type": "code",
   "execution_count": 6,
   "id": "6890f1e6",
   "metadata": {},
   "outputs": [
    {
     "data": {
      "text/plain": [
       "('Hello', 'tejaswini', 'Pradeep', 'Shivani')"
      ]
     },
     "execution_count": 6,
     "metadata": {},
     "output_type": "execute_result"
    }
   ],
   "source": [
    "t1 = (\"Hello\",\"tejaswini\",\"Pradeep\",\"Shivani\")\n",
    "t1"
   ]
  },
  {
   "cell_type": "markdown",
   "id": "5ec0e3f2",
   "metadata": {},
   "source": [
    "Boolean"
   ]
  },
  {
   "cell_type": "code",
   "execution_count": 7,
   "id": "7f9c1f8b",
   "metadata": {},
   "outputs": [
    {
     "data": {
      "text/plain": [
       "True"
      ]
     },
     "execution_count": 7,
     "metadata": {},
     "output_type": "execute_result"
    }
   ],
   "source": [
    "t1 = (1,2,3,4,5)\n",
    "1 in t1"
   ]
  },
  {
   "cell_type": "code",
   "execution_count": 8,
   "id": "65a6ac38",
   "metadata": {},
   "outputs": [
    {
     "data": {
      "text/plain": [
       "False"
      ]
     },
     "execution_count": 8,
     "metadata": {},
     "output_type": "execute_result"
    }
   ],
   "source": [
    "7 in t1"
   ]
  },
  {
   "cell_type": "markdown",
   "id": "fd91e229",
   "metadata": {},
   "source": [
    "Dictionary"
   ]
  },
  {
   "cell_type": "code",
   "execution_count": 9,
   "id": "744907be",
   "metadata": {},
   "outputs": [],
   "source": [
    "t1 = {'name':'tejaswini','age':25}"
   ]
  },
  {
   "cell_type": "code",
   "execution_count": 10,
   "id": "0b6caab3",
   "metadata": {},
   "outputs": [
    {
     "data": {
      "text/plain": [
       "{'name': 'tejaswini', 'age': 25}"
      ]
     },
     "execution_count": 10,
     "metadata": {},
     "output_type": "execute_result"
    }
   ],
   "source": [
    "t1"
   ]
  },
  {
   "cell_type": "markdown",
   "id": "14ac42b7",
   "metadata": {},
   "source": [
    "# 3. Write a Python program to create a tuple of numbers and print one item"
   ]
  },
  {
   "cell_type": "code",
   "execution_count": 11,
   "id": "8c1606a4",
   "metadata": {},
   "outputs": [
    {
     "data": {
      "text/plain": [
       "3"
      ]
     },
     "execution_count": 11,
     "metadata": {},
     "output_type": "execute_result"
    }
   ],
   "source": [
    "l = (1,2,3,4,5,6,7)\n",
    "l[2]\n",
    "\n"
   ]
  },
  {
   "cell_type": "code",
   "execution_count": 12,
   "id": "d605baf7",
   "metadata": {},
   "outputs": [
    {
     "data": {
      "text/plain": [
       "1"
      ]
     },
     "execution_count": 12,
     "metadata": {},
     "output_type": "execute_result"
    }
   ],
   "source": [
    "l[0]"
   ]
  },
  {
   "cell_type": "code",
   "execution_count": 13,
   "id": "3008d76d",
   "metadata": {},
   "outputs": [
    {
     "data": {
      "text/plain": [
       "7"
      ]
     },
     "execution_count": 13,
     "metadata": {},
     "output_type": "execute_result"
    }
   ],
   "source": [
    "l[6]"
   ]
  },
  {
   "cell_type": "code",
   "execution_count": 14,
   "id": "1545083b",
   "metadata": {},
   "outputs": [
    {
     "data": {
      "text/plain": [
       "4"
      ]
     },
     "execution_count": 14,
     "metadata": {},
     "output_type": "execute_result"
    }
   ],
   "source": [
    "l[3]"
   ]
  },
  {
   "cell_type": "markdown",
   "id": "d430aa5d",
   "metadata": {},
   "source": [
    "# 4. Write a Python program to add an item to a tuple."
   ]
  },
  {
   "cell_type": "code",
   "execution_count": 15,
   "id": "23a9de93",
   "metadata": {},
   "outputs": [],
   "source": [
    "t = (12,34,45,[56,23,78],(\"teja\",\"vasu\"))"
   ]
  },
  {
   "cell_type": "code",
   "execution_count": 16,
   "id": "05365648",
   "metadata": {},
   "outputs": [
    {
     "data": {
      "text/plain": [
       "(12, 34, 45, [56, 23, 78], ('teja', 'vasu'))"
      ]
     },
     "execution_count": 16,
     "metadata": {},
     "output_type": "execute_result"
    }
   ],
   "source": [
    "t"
   ]
  },
  {
   "cell_type": "code",
   "execution_count": 17,
   "id": "ac5e3ea0",
   "metadata": {},
   "outputs": [
    {
     "data": {
      "text/plain": [
       "'mayur'"
      ]
     },
     "execution_count": 17,
     "metadata": {},
     "output_type": "execute_result"
    }
   ],
   "source": [
    "t=(12,34,[23,34,56],(\"mayur\",\"kulkarni\"))\n",
    "t[3][0]\n"
   ]
  },
  {
   "cell_type": "code",
   "execution_count": 18,
   "id": "d01bf5f0",
   "metadata": {},
   "outputs": [
    {
     "data": {
      "text/plain": [
       "12"
      ]
     },
     "execution_count": 18,
     "metadata": {},
     "output_type": "execute_result"
    }
   ],
   "source": [
    "t1 = (12,34,45,[56,23,78], ('teja','vasu'))\n",
    "t1[0]"
   ]
  },
  {
   "cell_type": "code",
   "execution_count": 19,
   "id": "9d5defd3",
   "metadata": {},
   "outputs": [
    {
     "data": {
      "text/plain": [
       "45"
      ]
     },
     "execution_count": 19,
     "metadata": {},
     "output_type": "execute_result"
    }
   ],
   "source": [
    "t1[2]"
   ]
  },
  {
   "cell_type": "code",
   "execution_count": 20,
   "id": "644eabcf",
   "metadata": {},
   "outputs": [
    {
     "data": {
      "text/plain": [
       "(12, 34, 45, [56, 23, 78], ('teja', 'vasu'))"
      ]
     },
     "execution_count": 20,
     "metadata": {},
     "output_type": "execute_result"
    }
   ],
   "source": [
    "t1"
   ]
  },
  {
   "cell_type": "code",
   "execution_count": 21,
   "id": "085caa6e",
   "metadata": {},
   "outputs": [
    {
     "data": {
      "text/plain": [
       "[12, 34, [23, 34, 56], ('mayur', 'kulkarni')]"
      ]
     },
     "execution_count": 21,
     "metadata": {},
     "output_type": "execute_result"
    }
   ],
   "source": [
    "l = list(t)\n",
    "l"
   ]
  },
  {
   "cell_type": "code",
   "execution_count": 22,
   "id": "4a069f2b",
   "metadata": {},
   "outputs": [
    {
     "data": {
      "text/plain": [
       "[23, 34, 56]"
      ]
     },
     "execution_count": 22,
     "metadata": {},
     "output_type": "execute_result"
    }
   ],
   "source": [
    "l[2]"
   ]
  },
  {
   "cell_type": "code",
   "execution_count": 23,
   "id": "6f588ece",
   "metadata": {},
   "outputs": [],
   "source": [
    "l[2] = 2000"
   ]
  },
  {
   "cell_type": "code",
   "execution_count": 24,
   "id": "30cb165f",
   "metadata": {},
   "outputs": [
    {
     "data": {
      "text/plain": [
       "2000"
      ]
     },
     "execution_count": 24,
     "metadata": {},
     "output_type": "execute_result"
    }
   ],
   "source": [
    "l[2]"
   ]
  },
  {
   "cell_type": "code",
   "execution_count": 25,
   "id": "c68d7179",
   "metadata": {},
   "outputs": [
    {
     "data": {
      "text/plain": [
       "(12, 34, 2000, ('mayur', 'kulkarni'))"
      ]
     },
     "execution_count": 25,
     "metadata": {},
     "output_type": "execute_result"
    }
   ],
   "source": [
    "t = tuple(l)\n",
    "t"
   ]
  },
  {
   "cell_type": "code",
   "execution_count": 26,
   "id": "fd25ca1e",
   "metadata": {},
   "outputs": [
    {
     "data": {
      "text/plain": [
       "'mayur'"
      ]
     },
     "execution_count": 26,
     "metadata": {},
     "output_type": "execute_result"
    }
   ],
   "source": [
    "t=(12,34,[23,34,56],(\"mayur\",\"kulkarni\")) \n",
    "t[3][0]\n"
   ]
  },
  {
   "cell_type": "code",
   "execution_count": 27,
   "id": "030bf166",
   "metadata": {},
   "outputs": [
    {
     "data": {
      "text/plain": [
       "(12, 34, [20000, 34, 56], ('mayur', 'kulkarni'))"
      ]
     },
     "execution_count": 27,
     "metadata": {},
     "output_type": "execute_result"
    }
   ],
   "source": [
    "t[2][0] = 20000\n",
    "t"
   ]
  },
  {
   "cell_type": "code",
   "execution_count": 28,
   "id": "fbe371c3",
   "metadata": {},
   "outputs": [],
   "source": [
    "t2 = (12,34,45,[56,23,78], ('teja','vasu'))\n"
   ]
  },
  {
   "cell_type": "code",
   "execution_count": 29,
   "id": "7d02381c",
   "metadata": {},
   "outputs": [
    {
     "data": {
      "text/plain": [
       "(12, 34, 45, [56, 23, 78], ('teja', 'vasu'))"
      ]
     },
     "execution_count": 29,
     "metadata": {},
     "output_type": "execute_result"
    }
   ],
   "source": [
    "t2\n"
   ]
  },
  {
   "cell_type": "code",
   "execution_count": 30,
   "id": "295444d6",
   "metadata": {},
   "outputs": [
    {
     "name": "stdout",
     "output_type": "stream",
     "text": [
      "Original tuple: (12, 34, 45, [56, 23, 78], ('teja', 'vasu'))\n",
      "Updated tuple: (12, 2000, 45, [56, 23, 78], ('teja', 'vasu'))\n"
     ]
    }
   ],
   "source": [
    "t = (12, 34, 45, [56, 23, 78], (\"teja\", \"vasu\"))\n",
    "\n",
    "new_t = (t[0], 2000, t[2], t[3], t[4])\n",
    "\n",
    "print(\"Original tuple:\", t)\n",
    "print(\"Updated tuple:\", new_t)\n"
   ]
  },
  {
   "cell_type": "markdown",
   "id": "5cae49eb",
   "metadata": {},
   "source": [
    "# 6. Write a Python program to convert a tuple to a string"
   ]
  },
  {
   "cell_type": "code",
   "execution_count": 31,
   "id": "1921e561",
   "metadata": {},
   "outputs": [],
   "source": [
    "t = (\"tejaswini\",\"vasavi\",\"ramadevi\",\"srinivasa rao\")\n"
   ]
  },
  {
   "cell_type": "code",
   "execution_count": 32,
   "id": "baa2e905",
   "metadata": {},
   "outputs": [
    {
     "data": {
      "text/plain": [
       "('tejaswini', 'vasavi', 'ramadevi', 'srinivasa rao')"
      ]
     },
     "execution_count": 32,
     "metadata": {},
     "output_type": "execute_result"
    }
   ],
   "source": [
    "t"
   ]
  },
  {
   "cell_type": "markdown",
   "id": "e8dcf6f6",
   "metadata": {},
   "source": [
    "# 7. Write a Python program to get the 4th element from the last element of a tuple\n"
   ]
  },
  {
   "cell_type": "code",
   "execution_count": 33,
   "id": "595428a5",
   "metadata": {},
   "outputs": [],
   "source": [
    "tuple = (10,20,30,40,50,48,75,2,77,45)\n"
   ]
  },
  {
   "cell_type": "code",
   "execution_count": 34,
   "id": "392739ad",
   "metadata": {},
   "outputs": [
    {
     "data": {
      "text/plain": [
       "(10, 20, 30, 40, 50, 48, 75, 2, 77, 45)"
      ]
     },
     "execution_count": 34,
     "metadata": {},
     "output_type": "execute_result"
    }
   ],
   "source": [
    "tuple"
   ]
  },
  {
   "cell_type": "code",
   "execution_count": 35,
   "id": "fd6bce5b",
   "metadata": {},
   "outputs": [
    {
     "data": {
      "text/plain": [
       "75"
      ]
     },
     "execution_count": 35,
     "metadata": {},
     "output_type": "execute_result"
    }
   ],
   "source": [
    "tuple[-4]"
   ]
  },
  {
   "cell_type": "markdown",
   "id": "fc17f79a",
   "metadata": {},
   "source": [
    "# 8. Write a Python program to create the colon of tuple"
   ]
  },
  {
   "cell_type": "code",
   "execution_count": 55,
   "id": "6a47e50d",
   "metadata": {},
   "outputs": [
    {
     "name": "stdout",
     "output_type": "stream",
     "text": [
      "('Tutor', 'J', 23, 56.67, [23, 12], True)\n"
     ]
    }
   ],
   "source": [
    "from copy import deepcopy\n",
    "t = (\"Tutor\", 'J', 23 , 56.67 , [23,12] , True)\n",
    "print(t)\n",
    "\n",
    "\n"
   ]
  },
  {
   "cell_type": "code",
   "execution_count": 56,
   "id": "dfe490c4",
   "metadata": {},
   "outputs": [],
   "source": [
    "tc = deepcopy(t)\n",
    "\n",
    "\n"
   ]
  },
  {
   "cell_type": "code",
   "execution_count": 57,
   "id": "f64ec4d6",
   "metadata": {},
   "outputs": [
    {
     "data": {
      "text/plain": [
       "('Tutor', 'J', 23, 56.67, [23, 12], True)"
      ]
     },
     "execution_count": 57,
     "metadata": {},
     "output_type": "execute_result"
    }
   ],
   "source": [
    "tc"
   ]
  },
  {
   "cell_type": "code",
   "execution_count": 58,
   "id": "f5107263",
   "metadata": {},
   "outputs": [
    {
     "name": "stdout",
     "output_type": "stream",
     "text": [
      "('Tutor', 'J', 23, 56.67, [23, 12, 50], True)\n",
      "('Tutor', 'J', 23, 56.67, [23, 12], True)\n"
     ]
    }
   ],
   "source": [
    "tc[4].append(50)\n",
    "\n",
    "print(tc)\n",
    "print(t)\n"
   ]
  },
  {
   "cell_type": "markdown",
   "id": "ee56d754",
   "metadata": {},
   "source": [
    "# 9. Write a Python program to find repeated items in a tuple"
   ]
  },
  {
   "cell_type": "code",
   "execution_count": 36,
   "id": "629c639c",
   "metadata": {},
   "outputs": [],
   "source": [
    "t3 = (1,2,2,5,8,8,7,34)\n"
   ]
  },
  {
   "cell_type": "code",
   "execution_count": 37,
   "id": "25b53d75",
   "metadata": {},
   "outputs": [
    {
     "data": {
      "text/plain": [
       "(1, 2, 2, 5, 8, 8, 7, 34)"
      ]
     },
     "execution_count": 37,
     "metadata": {},
     "output_type": "execute_result"
    }
   ],
   "source": [
    "t3"
   ]
  },
  {
   "cell_type": "code",
   "execution_count": 38,
   "id": "7ed2bd6e",
   "metadata": {},
   "outputs": [
    {
     "data": {
      "text/plain": [
       "2"
      ]
     },
     "execution_count": 38,
     "metadata": {},
     "output_type": "execute_result"
    }
   ],
   "source": [
    "t3.count(2)"
   ]
  },
  {
   "cell_type": "code",
   "execution_count": 39,
   "id": "ddf5d244",
   "metadata": {},
   "outputs": [
    {
     "data": {
      "text/plain": [
       "2"
      ]
     },
     "execution_count": 39,
     "metadata": {},
     "output_type": "execute_result"
    }
   ],
   "source": [
    "t3.count(8)"
   ]
  },
  {
   "cell_type": "markdown",
   "id": "d52ce1c7",
   "metadata": {},
   "source": [
    "# 10.Write a Python program to check whether an element exists within a tuple."
   ]
  },
  {
   "cell_type": "code",
   "execution_count": 40,
   "id": "fc80836f",
   "metadata": {},
   "outputs": [
    {
     "name": "stdout",
     "output_type": "stream",
     "text": [
      "True\n",
      "True\n",
      "True\n",
      "False\n"
     ]
    }
   ],
   "source": [
    "t = ('teja',12,2.5,\"vasu\",25.7,9,89.0)\n",
    "print('teja' in t)\n",
    "print(89.0 in t)\n",
    "print(12 in t)\n",
    "print(5 in t)"
   ]
  },
  {
   "cell_type": "markdown",
   "id": "d20903a5",
   "metadata": {},
   "source": [
    "# 11. Write a Python program to convert a list to a tuple."
   ]
  },
  {
   "cell_type": "code",
   "execution_count": 41,
   "id": "3ff31aec",
   "metadata": {},
   "outputs": [
    {
     "data": {
      "text/plain": [
       "(1, 2, 3, 4, 5)"
      ]
     },
     "execution_count": 41,
     "metadata": {},
     "output_type": "execute_result"
    }
   ],
   "source": [
    "t = (1,2,3,4,5)\n",
    "t"
   ]
  },
  {
   "cell_type": "code",
   "execution_count": 42,
   "id": "060c2ba2",
   "metadata": {},
   "outputs": [
    {
     "data": {
      "text/plain": [
       "[1, 2, 3, 4, 5]"
      ]
     },
     "execution_count": 42,
     "metadata": {},
     "output_type": "execute_result"
    }
   ],
   "source": [
    "l = list(t)\n",
    "l"
   ]
  },
  {
   "cell_type": "code",
   "execution_count": 43,
   "id": "1d84e615",
   "metadata": {},
   "outputs": [
    {
     "data": {
      "text/plain": [
       "list"
      ]
     },
     "execution_count": 43,
     "metadata": {},
     "output_type": "execute_result"
    }
   ],
   "source": [
    "type(l)"
   ]
  },
  {
   "cell_type": "code",
   "execution_count": 44,
   "id": "9bb51e79",
   "metadata": {},
   "outputs": [],
   "source": [
    "l[2]=12"
   ]
  },
  {
   "cell_type": "code",
   "execution_count": 45,
   "id": "5a0ae3bd",
   "metadata": {},
   "outputs": [
    {
     "data": {
      "text/plain": [
       "[1, 2, 12, 4, 5]"
      ]
     },
     "execution_count": 45,
     "metadata": {},
     "output_type": "execute_result"
    }
   ],
   "source": [
    "l"
   ]
  },
  {
   "cell_type": "code",
   "execution_count": 46,
   "id": "1c35c522",
   "metadata": {},
   "outputs": [
    {
     "data": {
      "text/plain": [
       "[1, 2, 12, 4, 5]"
      ]
     },
     "execution_count": 46,
     "metadata": {},
     "output_type": "execute_result"
    }
   ],
   "source": [
    "l"
   ]
  },
  {
   "cell_type": "code",
   "execution_count": 47,
   "id": "64819474",
   "metadata": {},
   "outputs": [
    {
     "data": {
      "text/plain": [
       "(1, 2, 3, 4, 5)"
      ]
     },
     "execution_count": 47,
     "metadata": {},
     "output_type": "execute_result"
    }
   ],
   "source": [
    "t"
   ]
  },
  {
   "cell_type": "code",
   "execution_count": 48,
   "id": "9a7098e6",
   "metadata": {},
   "outputs": [
    {
     "data": {
      "text/plain": [
       "[1, 2, 3, 4, 5]"
      ]
     },
     "execution_count": 48,
     "metadata": {},
     "output_type": "execute_result"
    }
   ],
   "source": [
    "l = list(t)\n",
    "l"
   ]
  },
  {
   "cell_type": "code",
   "execution_count": 49,
   "id": "7e996ec9",
   "metadata": {},
   "outputs": [
    {
     "data": {
      "text/plain": [
       "list"
      ]
     },
     "execution_count": 49,
     "metadata": {},
     "output_type": "execute_result"
    }
   ],
   "source": [
    "type(l)"
   ]
  },
  {
   "cell_type": "code",
   "execution_count": 50,
   "id": "711c4cc0",
   "metadata": {},
   "outputs": [
    {
     "data": {
      "text/plain": [
       "[1, 12, 3, 4, 5]"
      ]
     },
     "execution_count": 50,
     "metadata": {},
     "output_type": "execute_result"
    }
   ],
   "source": [
    "l[1]=12\n",
    "l"
   ]
  },
  {
   "cell_type": "markdown",
   "id": "745abad0",
   "metadata": {},
   "source": [
    "# 12. Write a Python program to remove an item from a tuple."
   ]
  },
  {
   "cell_type": "code",
   "execution_count": 2,
   "id": "acc89209",
   "metadata": {},
   "outputs": [],
   "source": [
    "a = (1,2,3,4,5,6)\n",
    "l = list(a)"
   ]
  },
  {
   "cell_type": "code",
   "execution_count": 3,
   "id": "c6ca67e3",
   "metadata": {},
   "outputs": [
    {
     "data": {
      "text/plain": [
       "[1, 2, 3, 4, 5, 6]"
      ]
     },
     "execution_count": 3,
     "metadata": {},
     "output_type": "execute_result"
    }
   ],
   "source": [
    "l\n"
   ]
  },
  {
   "cell_type": "code",
   "execution_count": 4,
   "id": "ca68a270",
   "metadata": {},
   "outputs": [
    {
     "data": {
      "text/plain": [
       "[1, 2, 4, 5, 6]"
      ]
     },
     "execution_count": 4,
     "metadata": {},
     "output_type": "execute_result"
    }
   ],
   "source": [
    "l.remove(3)\n",
    "l"
   ]
  },
  {
   "cell_type": "code",
   "execution_count": 5,
   "id": "1561aed2",
   "metadata": {},
   "outputs": [
    {
     "data": {
      "text/plain": [
       "(1, 2, 4, 5, 6)"
      ]
     },
     "execution_count": 5,
     "metadata": {},
     "output_type": "execute_result"
    }
   ],
   "source": [
    "a = tuple(l)\n",
    "a"
   ]
  },
  {
   "cell_type": "code",
   "execution_count": 6,
   "id": "de360aa1",
   "metadata": {},
   "outputs": [
    {
     "data": {
      "text/plain": [
       "(1, 2, 4, 5, 6)"
      ]
     },
     "execution_count": 6,
     "metadata": {},
     "output_type": "execute_result"
    }
   ],
   "source": [
    "a"
   ]
  },
  {
   "cell_type": "markdown",
   "id": "32e21e4a",
   "metadata": {},
   "source": [
    "# 13. Write a Python program to slice a tuple."
   ]
  },
  {
   "cell_type": "code",
   "execution_count": 7,
   "id": "f126d829",
   "metadata": {},
   "outputs": [],
   "source": [
    "b = (1,2,3,4,5,6,7)\n"
   ]
  },
  {
   "cell_type": "code",
   "execution_count": 8,
   "id": "7fd5834b",
   "metadata": {},
   "outputs": [
    {
     "data": {
      "text/plain": [
       "(1, 2, 3, 4, 5, 6, 7)"
      ]
     },
     "execution_count": 8,
     "metadata": {},
     "output_type": "execute_result"
    }
   ],
   "source": [
    "b"
   ]
  },
  {
   "cell_type": "code",
   "execution_count": 9,
   "id": "243e8003",
   "metadata": {},
   "outputs": [
    {
     "data": {
      "text/plain": [
       "(1, 2, 3, 4, 5, 6, 7)"
      ]
     },
     "execution_count": 9,
     "metadata": {},
     "output_type": "execute_result"
    }
   ],
   "source": [
    "b[0:]"
   ]
  },
  {
   "cell_type": "code",
   "execution_count": 10,
   "id": "c37b1148",
   "metadata": {},
   "outputs": [
    {
     "data": {
      "text/plain": [
       "(1, 2, 3, 4, 5, 6)"
      ]
     },
     "execution_count": 10,
     "metadata": {},
     "output_type": "execute_result"
    }
   ],
   "source": [
    "b[:6]"
   ]
  },
  {
   "cell_type": "code",
   "execution_count": 11,
   "id": "e6fe7c13",
   "metadata": {},
   "outputs": [
    {
     "data": {
      "text/plain": [
       "(1, 2, 3, 4)"
      ]
     },
     "execution_count": 11,
     "metadata": {},
     "output_type": "execute_result"
    }
   ],
   "source": [
    "b[0:4]"
   ]
  },
  {
   "cell_type": "code",
   "execution_count": 12,
   "id": "6efb7827",
   "metadata": {},
   "outputs": [
    {
     "data": {
      "text/plain": [
       "()"
      ]
     },
     "execution_count": 12,
     "metadata": {},
     "output_type": "execute_result"
    }
   ],
   "source": [
    "b[-1:-5]"
   ]
  },
  {
   "cell_type": "code",
   "execution_count": 13,
   "id": "caeed982",
   "metadata": {},
   "outputs": [
    {
     "data": {
      "text/plain": [
       "(1, 2, 3, 4, 5, 6, 7)"
      ]
     },
     "execution_count": 13,
     "metadata": {},
     "output_type": "execute_result"
    }
   ],
   "source": [
    "b"
   ]
  },
  {
   "cell_type": "code",
   "execution_count": 14,
   "id": "8bac4f28",
   "metadata": {},
   "outputs": [
    {
     "data": {
      "text/plain": [
       "(7,)"
      ]
     },
     "execution_count": 14,
     "metadata": {},
     "output_type": "execute_result"
    }
   ],
   "source": [
    "b[-1:]"
   ]
  },
  {
   "cell_type": "code",
   "execution_count": 15,
   "id": "862608d5",
   "metadata": {},
   "outputs": [
    {
     "data": {
      "text/plain": [
       "()"
      ]
     },
     "execution_count": 15,
     "metadata": {},
     "output_type": "execute_result"
    }
   ],
   "source": [
    "b[:-7]"
   ]
  },
  {
   "cell_type": "code",
   "execution_count": 16,
   "id": "241a6de1",
   "metadata": {},
   "outputs": [
    {
     "data": {
      "text/plain": [
       "(1, 2, 3, 4, 5, 6, 7)"
      ]
     },
     "execution_count": 16,
     "metadata": {},
     "output_type": "execute_result"
    }
   ],
   "source": [
    "b"
   ]
  },
  {
   "cell_type": "code",
   "execution_count": 17,
   "id": "b6a0eaa5",
   "metadata": {},
   "outputs": [
    {
     "name": "stdout",
     "output_type": "stream",
     "text": [
      "()\n"
     ]
    }
   ],
   "source": [
    "b = (1, 2, 3, 4, 5)\n",
    "print(b[:-7])  # Output: ()\n"
   ]
  },
  {
   "cell_type": "code",
   "execution_count": 18,
   "id": "a99311f1",
   "metadata": {},
   "outputs": [
    {
     "data": {
      "text/plain": [
       "(1, 2, 3, 4, 5)"
      ]
     },
     "execution_count": 18,
     "metadata": {},
     "output_type": "execute_result"
    }
   ],
   "source": [
    "b"
   ]
  },
  {
   "cell_type": "code",
   "execution_count": 19,
   "id": "ae7276cd",
   "metadata": {},
   "outputs": [
    {
     "data": {
      "text/plain": [
       "5"
      ]
     },
     "execution_count": 19,
     "metadata": {},
     "output_type": "execute_result"
    }
   ],
   "source": [
    "len(b)"
   ]
  },
  {
   "cell_type": "markdown",
   "id": "fbf0863b",
   "metadata": {},
   "source": [
    "# 14. Write a Python program to find the index of an item in a tuple."
   ]
  },
  {
   "cell_type": "code",
   "execution_count": 20,
   "id": "5b38209e",
   "metadata": {},
   "outputs": [],
   "source": [
    "c = (12,45,23,56,89,78)\n"
   ]
  },
  {
   "cell_type": "code",
   "execution_count": 21,
   "id": "c93648c5",
   "metadata": {},
   "outputs": [
    {
     "data": {
      "text/plain": [
       "(12, 45, 23, 56, 89, 78)"
      ]
     },
     "execution_count": 21,
     "metadata": {},
     "output_type": "execute_result"
    }
   ],
   "source": [
    "c"
   ]
  },
  {
   "cell_type": "code",
   "execution_count": 22,
   "id": "a07a5b14",
   "metadata": {},
   "outputs": [
    {
     "data": {
      "text/plain": [
       "12"
      ]
     },
     "execution_count": 22,
     "metadata": {},
     "output_type": "execute_result"
    }
   ],
   "source": [
    "c[0]"
   ]
  },
  {
   "cell_type": "code",
   "execution_count": 23,
   "id": "8adfc5dc",
   "metadata": {},
   "outputs": [
    {
     "data": {
      "text/plain": [
       "89"
      ]
     },
     "execution_count": 23,
     "metadata": {},
     "output_type": "execute_result"
    }
   ],
   "source": [
    "c[4]"
   ]
  },
  {
   "cell_type": "code",
   "execution_count": 24,
   "id": "ccbd7f4b",
   "metadata": {},
   "outputs": [
    {
     "data": {
      "text/plain": [
       "78"
      ]
     },
     "execution_count": 24,
     "metadata": {},
     "output_type": "execute_result"
    }
   ],
   "source": [
    "c[5]"
   ]
  },
  {
   "cell_type": "code",
   "execution_count": 25,
   "id": "8ca2dc67",
   "metadata": {},
   "outputs": [
    {
     "data": {
      "text/plain": [
       "23"
      ]
     },
     "execution_count": 25,
     "metadata": {},
     "output_type": "execute_result"
    }
   ],
   "source": [
    "c[2]\n"
   ]
  },
  {
   "cell_type": "code",
   "execution_count": 28,
   "id": "7bf5d598",
   "metadata": {},
   "outputs": [],
   "source": [
    "c  = (1, 2, [4,5,6])"
   ]
  },
  {
   "cell_type": "code",
   "execution_count": 30,
   "id": "d9155d54",
   "metadata": {},
   "outputs": [
    {
     "data": {
      "text/plain": [
       "1"
      ]
     },
     "execution_count": 30,
     "metadata": {},
     "output_type": "execute_result"
    }
   ],
   "source": [
    "c[0]"
   ]
  },
  {
   "cell_type": "code",
   "execution_count": 31,
   "id": "09057d49",
   "metadata": {},
   "outputs": [
    {
     "data": {
      "text/plain": [
       "2"
      ]
     },
     "execution_count": 31,
     "metadata": {},
     "output_type": "execute_result"
    }
   ],
   "source": [
    "c[1]"
   ]
  },
  {
   "cell_type": "code",
   "execution_count": 32,
   "id": "b95a7b2a",
   "metadata": {},
   "outputs": [
    {
     "data": {
      "text/plain": [
       "[4, 5, 6]"
      ]
     },
     "execution_count": 32,
     "metadata": {},
     "output_type": "execute_result"
    }
   ],
   "source": [
    "c[2]"
   ]
  },
  {
   "cell_type": "code",
   "execution_count": 33,
   "id": "71077597",
   "metadata": {},
   "outputs": [
    {
     "data": {
      "text/plain": [
       "4"
      ]
     },
     "execution_count": 33,
     "metadata": {},
     "output_type": "execute_result"
    }
   ],
   "source": [
    "c[2][0]"
   ]
  },
  {
   "cell_type": "code",
   "execution_count": 34,
   "id": "dd8be7bd",
   "metadata": {},
   "outputs": [
    {
     "data": {
      "text/plain": [
       "6"
      ]
     },
     "execution_count": 34,
     "metadata": {},
     "output_type": "execute_result"
    }
   ],
   "source": [
    "c[2][2]"
   ]
  },
  {
   "cell_type": "code",
   "execution_count": 35,
   "id": "d488de22",
   "metadata": {},
   "outputs": [],
   "source": [
    "c  = (1, 2, [4,5,6], \"teja\", [12,23])"
   ]
  },
  {
   "cell_type": "code",
   "execution_count": 38,
   "id": "c98d9da7",
   "metadata": {},
   "outputs": [
    {
     "data": {
      "text/plain": [
       "(1, 2, [4, 5, 6], 'teja')"
      ]
     },
     "execution_count": 38,
     "metadata": {},
     "output_type": "execute_result"
    }
   ],
   "source": [
    "c"
   ]
  },
  {
   "cell_type": "code",
   "execution_count": 40,
   "id": "27c49584",
   "metadata": {},
   "outputs": [
    {
     "data": {
      "text/plain": [
       "'teja'"
      ]
     },
     "execution_count": 40,
     "metadata": {},
     "output_type": "execute_result"
    }
   ],
   "source": [
    "c[3]"
   ]
  },
  {
   "cell_type": "code",
   "execution_count": 43,
   "id": "8c74d8bd",
   "metadata": {},
   "outputs": [
    {
     "data": {
      "text/plain": [
       "'t'"
      ]
     },
     "execution_count": 43,
     "metadata": {},
     "output_type": "execute_result"
    }
   ],
   "source": [
    "c[3][0]"
   ]
  },
  {
   "cell_type": "code",
   "execution_count": 45,
   "id": "69fbb2e7",
   "metadata": {},
   "outputs": [
    {
     "data": {
      "text/plain": [
       "4"
      ]
     },
     "execution_count": 45,
     "metadata": {},
     "output_type": "execute_result"
    }
   ],
   "source": [
    "len(c)"
   ]
  },
  {
   "cell_type": "code",
   "execution_count": 46,
   "id": "4122ecbe",
   "metadata": {},
   "outputs": [
    {
     "data": {
      "text/plain": [
       "(1, 2, [4, 5, 6], 'teja')"
      ]
     },
     "execution_count": 46,
     "metadata": {},
     "output_type": "execute_result"
    }
   ],
   "source": [
    "c"
   ]
  },
  {
   "cell_type": "code",
   "execution_count": 47,
   "id": "8b97bc9c",
   "metadata": {},
   "outputs": [],
   "source": [
    "c  = (1, 2, [4,5,6], \"teja\", [12,23])"
   ]
  },
  {
   "cell_type": "code",
   "execution_count": 48,
   "id": "f9acbd94",
   "metadata": {},
   "outputs": [
    {
     "data": {
      "text/plain": [
       "(1, 2, [4, 5, 6], 'teja', [12, 23])"
      ]
     },
     "execution_count": 48,
     "metadata": {},
     "output_type": "execute_result"
    }
   ],
   "source": [
    "c"
   ]
  },
  {
   "cell_type": "code",
   "execution_count": 49,
   "id": "7a254fdc",
   "metadata": {},
   "outputs": [
    {
     "data": {
      "text/plain": [
       "[12, 23]"
      ]
     },
     "execution_count": 49,
     "metadata": {},
     "output_type": "execute_result"
    }
   ],
   "source": [
    "c[4]"
   ]
  },
  {
   "cell_type": "code",
   "execution_count": 50,
   "id": "f5a3d569",
   "metadata": {},
   "outputs": [
    {
     "data": {
      "text/plain": [
       "12"
      ]
     },
     "execution_count": 50,
     "metadata": {},
     "output_type": "execute_result"
    }
   ],
   "source": [
    "c[4][0]"
   ]
  },
  {
   "cell_type": "markdown",
   "id": "2df32d97",
   "metadata": {},
   "source": [
    "# 15. Write a Python program to find the length of a tuple."
   ]
  },
  {
   "cell_type": "code",
   "execution_count": 52,
   "id": "b8e489a3",
   "metadata": {},
   "outputs": [],
   "source": [
    "d  = (1, 2, [4,5,6], \"teja\", [12,23], \"vasu\", [45,5.6,8.9])"
   ]
  },
  {
   "cell_type": "code",
   "execution_count": 53,
   "id": "7d5b33c2",
   "metadata": {},
   "outputs": [
    {
     "data": {
      "text/plain": [
       "(1, 2, [4, 5, 6], 'teja', [12, 23], 'vasu', [45, 5.6, 8.9])"
      ]
     },
     "execution_count": 53,
     "metadata": {},
     "output_type": "execute_result"
    }
   ],
   "source": [
    "d\n"
   ]
  },
  {
   "cell_type": "code",
   "execution_count": 54,
   "id": "bfb5efc2",
   "metadata": {},
   "outputs": [
    {
     "data": {
      "text/plain": [
       "7"
      ]
     },
     "execution_count": 54,
     "metadata": {},
     "output_type": "execute_result"
    }
   ],
   "source": [
    "len(d)"
   ]
  },
  {
   "cell_type": "code",
   "execution_count": 9,
   "id": "d272b130",
   "metadata": {},
   "outputs": [],
   "source": [
    "e = (1, 2, [4,5,6], \"teja\", [12,23], \"vasu\", [45,5.6,8.9], \"rama\")\n"
   ]
  },
  {
   "cell_type": "code",
   "execution_count": 10,
   "id": "6e70c5e5",
   "metadata": {},
   "outputs": [
    {
     "data": {
      "text/plain": [
       "(1, 2, [4, 5, 6], 'teja', [12, 23], 'vasu', [45, 5.6, 8.9], 'rama')"
      ]
     },
     "execution_count": 10,
     "metadata": {},
     "output_type": "execute_result"
    }
   ],
   "source": [
    "e"
   ]
  },
  {
   "cell_type": "code",
   "execution_count": 11,
   "id": "786bd8e2",
   "metadata": {},
   "outputs": [
    {
     "data": {
      "text/plain": [
       "8"
      ]
     },
     "execution_count": 11,
     "metadata": {},
     "output_type": "execute_result"
    }
   ],
   "source": [
    "len(e)"
   ]
  },
  {
   "cell_type": "markdown",
   "id": "7d37f2b0",
   "metadata": {},
   "source": [
    "16. The idea is to count the no. of time the product occurred, its already\n",
    "mentioned in the question no. are disctinct, we just need to the all the\n",
    "combinations.For a,b,c,d there can be 8 combinations, lets take (a,b) as 1 and\n",
    "(c,d) as 2 so there it can be written as \"12\" or \"21\" so 2 ways and then the 1-\n",
    "which is ab can also be written as \"ab\" or \"ba\" so again 2 ways and likewise for\n",
    "cd. So the max unique combination for a tuple (a,b,c,d) can be 2x2x2 = 8.Once\n",
    "we have a count of the no. of products we can find the combination"
   ]
  },
  {
   "cell_type": "code",
   "execution_count": 1,
   "id": "9e1a5dd0",
   "metadata": {},
   "outputs": [
    {
     "name": "stdout",
     "output_type": "stream",
     "text": [
      "[(2, 5), (3, 6), (4, 7), (5, 8)]\n"
     ]
    }
   ],
   "source": [
    "a = [2,3,4,5]\n",
    "b = [5,6,7,8]\n",
    "c = list(zip(a,b))\n",
    "print(c)"
   ]
  },
  {
   "cell_type": "code",
   "execution_count": 3,
   "id": "c11859ba",
   "metadata": {},
   "outputs": [
    {
     "name": "stdout",
     "output_type": "stream",
     "text": [
      "[(12, 16), (13, 17), (14, 18), (15, 19)]\n"
     ]
    }
   ],
   "source": [
    "c = [12,13,14,15]\n",
    "d = [16,17,18,19]\n",
    "e = list(zip(c,d))\n",
    "print(e)"
   ]
  },
  {
   "cell_type": "code",
   "execution_count": null,
   "id": "ae374a9b",
   "metadata": {},
   "outputs": [],
   "source": [
    "a = "
   ]
  },
  {
   "cell_type": "code",
   "execution_count": null,
   "id": "3d9e151e",
   "metadata": {},
   "outputs": [],
   "source": []
  },
  {
   "cell_type": "code",
   "execution_count": null,
   "id": "a29a742d",
   "metadata": {},
   "outputs": [],
   "source": []
  },
  {
   "cell_type": "code",
   "execution_count": 6,
   "id": "baf86f9f",
   "metadata": {},
   "outputs": [
    {
     "name": "stdout",
     "output_type": "stream",
     "text": [
      "[(2, 5, 12, 16), (3, 6, 13, 17), (4, 7, 14, 18), (5, 8, 15, 19)]\n"
     ]
    }
   ],
   "source": [
    "a1 = [2,3,4,5]\n",
    "b1 = [5,6,7,8]\n",
    "c1 = [8,9,10,11]\n",
    "d1 = [12,13,14,15]\n",
    "e1 = list(zip(a,b,c,d))\n",
    "print(e1)"
   ]
  },
  {
   "cell_type": "code",
   "execution_count": 7,
   "id": "7d747b98",
   "metadata": {},
   "outputs": [
    {
     "name": "stdout",
     "output_type": "stream",
     "text": [
      "(2, 5, 12, 16)\n",
      "(3, 6, 13, 17)\n",
      "(4, 7, 14, 18)\n",
      "(5, 8, 15, 19)\n"
     ]
    }
   ],
   "source": [
    "for i in e1:\n",
    "    print(i)"
   ]
  },
  {
   "cell_type": "code",
   "execution_count": 8,
   "id": "a253e8ca",
   "metadata": {},
   "outputs": [
    {
     "data": {
      "text/plain": [
       "4"
      ]
     },
     "execution_count": 8,
     "metadata": {},
     "output_type": "execute_result"
    }
   ],
   "source": [
    "len(i)"
   ]
  },
  {
   "cell_type": "code",
   "execution_count": null,
   "id": "178f4bca",
   "metadata": {},
   "outputs": [],
   "source": []
  }
 ],
 "metadata": {
  "kernelspec": {
   "display_name": "Python 3 (ipykernel)",
   "language": "python",
   "name": "python3"
  },
  "language_info": {
   "codemirror_mode": {
    "name": "ipython",
    "version": 3
   },
   "file_extension": ".py",
   "mimetype": "text/x-python",
   "name": "python",
   "nbconvert_exporter": "python",
   "pygments_lexer": "ipython3",
   "version": "3.10.9"
  }
 },
 "nbformat": 4,
 "nbformat_minor": 5
}
